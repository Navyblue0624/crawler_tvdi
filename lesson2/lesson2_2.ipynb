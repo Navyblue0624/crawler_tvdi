{
 "cells": [
  {
   "cell_type": "code",
   "execution_count": 1,
   "id": "e47ad14f",
   "metadata": {},
   "outputs": [
    {
     "name": "stdout",
     "output_type": "stream",
     "text": [
      "角度是：36.87 度\n"
     ]
    }
   ],
   "source": [
    "angle_degrees = 36.86989764584401\n",
    "print(f\"角度是：{angle_degrees:.2f} 度\")\n"
   ]
  },
  {
   "cell_type": "code",
   "execution_count": 6,
   "id": "6668669f",
   "metadata": {},
   "outputs": [
    {
     "name": "stdout",
     "output_type": "stream",
     "text": [
      "今天是晴天！\n"
     ]
    }
   ],
   "source": [
    "is_sunny = True\n",
    "if is_sunny:\n",
    "    print(\"今天是晴天！\")\n",
    "else:\n",
    "    print(\"今天不是晴天。\")\n"
   ]
  },
  {
   "cell_type": "code",
   "execution_count": 5,
   "id": "9fd98627",
   "metadata": {},
   "outputs": [
    {
     "name": "stdout",
     "output_type": "stream",
     "text": [
      "角度是：30.00 度\n"
     ]
    }
   ],
   "source": [
    "print(f\"角度是：{angle_degrees:.2f} 度\")\n"
   ]
  },
  {
   "cell_type": "code",
   "execution_count": 2,
   "id": "366c702c",
   "metadata": {},
   "outputs": [
    {
     "name": "stdout",
     "output_type": "stream",
     "text": [
      "角度是：30.00 度\n"
     ]
    }
   ],
   "source": [
    "import math\n",
    "\n",
    "# 假設對邊是 3，斜邊是 5\n",
    "opposite = 25\n",
    "hypotenuse = 50\n",
    "\n",
    "\n",
    "# 計算角度（弧度 -> 度數）\n",
    "angle_radians = math.asin(opposite / hypotenuse)  # arcsin 回傳的是弧度\n",
    "angle_degrees = math.degrees(angle_radians)       # 轉換為角度\n",
    "\n",
    "print(f\"角度是：{angle_degrees:.2f} 度\")\n"
   ]
  },
  {
   "cell_type": "code",
   "execution_count": 3,
   "id": "eaa1e5c2",
   "metadata": {},
   "outputs": [
    {
     "name": "stdout",
     "output_type": "stream",
     "text": [
      "角度是：30.00 度\n"
     ]
    }
   ],
   "source": [
    "print(f\"角度是：{angle_degrees:.2f} 度\")\n"
   ]
  },
  {
   "cell_type": "code",
   "execution_count": 5,
   "id": "7ec079a2",
   "metadata": {},
   "outputs": [
    {
     "name": "stdout",
     "output_type": "stream",
     "text": [
      "Hello, Frank\n"
     ]
    }
   ],
   "source": [
    "name = \"Frank\"\n",
    "greeting = \"Hello, \" + name\n",
    "print(greeting)  # 輸出：Hello, Frank\n"
   ]
  },
  {
   "cell_type": "code",
   "execution_count": 4,
   "id": "8f78e0be",
   "metadata": {},
   "outputs": [
    {
     "name": "stdout",
     "output_type": "stream",
     "text": [
      "Hello! Python!\n"
     ]
    }
   ],
   "source": [
    "print(\"Hello! Python!\")"
   ]
  },
  {
   "cell_type": "markdown",
   "id": "2570c1c4",
   "metadata": {},
   "source": [
    "### python 基礎"
   ]
  }
 ],
 "metadata": {
  "kernelspec": {
   "display_name": "base",
   "language": "python",
   "name": "python3"
  },
  "language_info": {
   "codemirror_mode": {
    "name": "ipython",
    "version": 3
   },
   "file_extension": ".py",
   "mimetype": "text/x-python",
   "name": "python",
   "nbconvert_exporter": "python",
   "pygments_lexer": "ipython3",
   "version": "3.13.5"
  }
 },
 "nbformat": 4,
 "nbformat_minor": 5
}
