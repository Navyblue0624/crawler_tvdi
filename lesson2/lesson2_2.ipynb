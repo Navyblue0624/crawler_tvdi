{
 "cells": [
  {
   "cell_type": "code",
   "execution_count": 5,
   "id": "7ec079a2",
   "metadata": {},
   "outputs": [
    {
     "name": "stdout",
     "output_type": "stream",
     "text": [
      "Hello, Frank\n"
     ]
    }
   ],
   "source": [
    "name = \"Frank\"\n",
    "greeting = \"Hello, \" + name\n",
    "print(greeting)  # 輸出：Hello, Frank\n"
   ]
  },
  {
   "cell_type": "code",
   "execution_count": 4,
   "id": "8f78e0be",
   "metadata": {},
   "outputs": [
    {
     "name": "stdout",
     "output_type": "stream",
     "text": [
      "Hello! Python!\n"
     ]
    }
   ],
   "source": [
    "print(\"Hello! Python!\")"
   ]
  },
  {
   "cell_type": "markdown",
   "id": "2570c1c4",
   "metadata": {},
   "source": [
    "### python 基礎"
   ]
  }
 ],
 "metadata": {
  "kernelspec": {
   "display_name": ".venv",
   "language": "python",
   "name": "python3"
  },
  "language_info": {
   "codemirror_mode": {
    "name": "ipython",
    "version": 3
   },
   "file_extension": ".py",
   "mimetype": "text/x-python",
   "name": "python",
   "nbconvert_exporter": "python",
   "pygments_lexer": "ipython3",
   "version": "3.13.3"
  }
 },
 "nbformat": 4,
 "nbformat_minor": 5
}
