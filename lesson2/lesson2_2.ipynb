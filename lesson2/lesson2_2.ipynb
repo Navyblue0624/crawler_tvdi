{
 "cells": [
  {
   "cell_type": "code",
   "execution_count": 29,
   "id": "b0edf4cb",
   "metadata": {},
   "outputs": [
    {
     "name": "stdout",
     "output_type": "stream",
     "text": [
      "角度為 36.87 度\n"
     ]
    }
   ],
   "source": [
    "degrees = 36.86989764584401\n",
    "print(f\"角度為 {degrees:.2f} 度\")"
   ]
  },
  {
   "cell_type": "code",
   "execution_count": 28,
   "id": "6e468646",
   "metadata": {},
   "outputs": [
    {
     "name": "stdout",
     "output_type": "stream",
     "text": [
      "角度為 30.00 度\n"
     ]
    }
   ],
   "source": [
    "import math\n",
    "\n",
    "# 假設對邊長為 3，斜邊長為 5\n",
    "opposite = 25\n",
    "hypotenuse = 50\n",
    "\n",
    "# 求角度（使用反正弦函數）\n",
    "radians = math.asin(opposite / hypotenuse)\n",
    "\n",
    "# 將弧度轉換為角度\n",
    "degrees = math.degrees(radians)\n",
    "\n",
    "print(f\"角度為 {degrees:.2f} 度\")"
   ]
  },
  {
   "cell_type": "code",
   "execution_count": 27,
   "id": "ada47514",
   "metadata": {},
   "outputs": [
    {
     "name": "stdout",
     "output_type": "stream",
     "text": [
      "Alice\n",
      "25\n",
      "1.65\n",
      "True\n",
      "總和是：15\n",
      "Hello-World-!-56!\n"
     ]
    }
   ],
   "source": [
    "name = \"Alice\"         # 字串（string）\n",
    "age = 25               # 整數（integer）\n",
    "height = 1.65          # 浮點數（float）\n",
    "is_student = True      # 布林值（boolean）\n",
    "\n",
    "print(name)\n",
    "print(age)\n",
    "print(height)\n",
    "print(is_student)\n",
    "\n",
    "\n",
    "a = 10\n",
    "b = 5\n",
    "sum_result = a + b\n",
    "print(\"總和是：\", sum_result, sep='')\n",
    "\n",
    "a ** b\n",
    "\n",
    "print('Hello', 'World', \"!\", 56, sep='-', end='!\\n')"
   ]
  },
  {
   "cell_type": "code",
   "execution_count": 3,
   "id": "07dc5c84",
   "metadata": {},
   "outputs": [
    {
     "name": "stdout",
     "output_type": "stream",
     "text": [
      "Hello! Python!\n"
     ]
    }
   ],
   "source": [
    "print(\"Hello! Python!\")"
   ]
  }
 ],
 "metadata": {
  "kernelspec": {
   "display_name": "base",
   "language": "python",
   "name": "python3"
  },
  "language_info": {
   "codemirror_mode": {
    "name": "ipython",
    "version": 3
   },
   "file_extension": ".py",
   "mimetype": "text/x-python",
   "name": "python",
   "nbconvert_exporter": "python",
   "pygments_lexer": "ipython3",
   "version": "3.13.5"
  }
 },
 "nbformat": 4,
 "nbformat_minor": 5
}
