{
 "cells": [
  {
   "cell_type": "code",
   "execution_count": 23,
   "id": "13693c65",
   "metadata": {},
   "outputs": [
    {
     "name": "stdout",
     "output_type": "stream",
     "text": [
      "角A: 44.42 度\n",
      "角B: 57.12 度\n",
      "角C: 78.46 度\n"
     ]
    }
   ],
   "source": [
    "import math\n",
    "\n",
    "# 假設三角形三邊長為：\n",
    "a = 5\n",
    "b = 6\n",
    "c = 7\n",
    "\n",
    "# 計算角 A（對邊是 a）\n",
    "angle_A = math.degrees(math.acos((b**2 + c**2 - a**2) / (2 * b * c)))\n",
    "\n",
    "# 計算角 B（對邊是 b）\n",
    "angle_B = math.degrees(math.acos((a**2 + c**2 - b**2) / (2 * a * c)))\n",
    "\n",
    "# 計算角 C（對邊是 c）\n",
    "angle_C = 180 - angle_A - angle_B  # 用內角和補出第三角\n",
    "\n",
    "# 顯示結果\n",
    "print(f\"角A: {angle_A:.2f} 度\")\n",
    "print(f\"角B: {angle_B:.2f} 度\")\n",
    "print(f\"角C: {angle_C:.2f} 度\")\n"
   ]
  },
  {
   "cell_type": "code",
   "execution_count": 20,
   "id": "8569e751",
   "metadata": {},
   "outputs": [
    {
     "name": "stdout",
     "output_type": "stream",
     "text": [
      "8\n"
     ]
    }
   ],
   "source": [
    "a = 5\n",
    "b = 3\n",
    "sum = a + b\n",
    "print(sum)  # 輸出：8\n"
   ]
  },
  {
   "cell_type": "code",
   "execution_count": 3,
   "id": "07dc5c84",
   "metadata": {},
   "outputs": [
    {
     "name": "stdout",
     "output_type": "stream",
     "text": [
      "Hello! Python!\n"
     ]
    }
   ],
   "source": [
    "print(\"Hello! Python!\")"
   ]
  }
 ],
 "metadata": {
  "kernelspec": {
   "display_name": "base",
   "language": "python",
   "name": "python3"
  },
  "language_info": {
   "codemirror_mode": {
    "name": "ipython",
    "version": 3
   },
   "file_extension": ".py",
   "mimetype": "text/x-python",
   "name": "python",
   "nbconvert_exporter": "python",
   "pygments_lexer": "ipython3",
   "version": "3.13.5"
  }
 },
 "nbformat": 4,
 "nbformat_minor": 5
}
