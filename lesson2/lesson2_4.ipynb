{
 "cells": [
  {
   "cell_type": "code",
   "execution_count": 3,
   "id": "aa13ec88",
   "metadata": {},
   "outputs": [
    {
     "name": "stdout",
     "output_type": "stream",
     "text": [
      "成績不及格\n"
     ]
    }
   ],
   "source": [
    "#多項選擇\n",
    "score = 54\n",
    "if score >= 90:\n",
    "    print(\"成績優秀\")\n",
    "elif score >= 60:\n",
    "    print(\"成績及格\")\n",
    "else:\n",
    "    print(\"成績不及格\")"
   ]
  },
  {
   "cell_type": "code",
   "execution_count": 2,
   "id": "6b8cc36d",
   "metadata": {},
   "outputs": [
    {
     "name": "stdout",
     "output_type": "stream",
     "text": [
      "你還未成年\n"
     ]
    }
   ],
   "source": [
    "age = 16\n",
    "#雙向選擇\n",
    "if age >= 18:\n",
    "    #True\n",
    "    print(\"你已成年\")\n",
    "else:\n",
    "    #False\n",
    "    print(\"你還未成年\")"
   ]
  },
  {
   "cell_type": "code",
   "execution_count": 1,
   "id": "17e24c90",
   "metadata": {},
   "outputs": [
    {
     "name": "stdout",
     "output_type": "stream",
     "text": [
      "你已成年，可以投票！\n"
     ]
    }
   ],
   "source": [
    "age = 18\n",
    "#單項選擇\n",
    "if age >= 18:\n",
    "    print(\"你已成年，可以投票！\")"
   ]
  }
 ],
 "metadata": {
  "kernelspec": {
   "display_name": "base",
   "language": "python",
   "name": "python3"
  },
  "language_info": {
   "codemirror_mode": {
    "name": "ipython",
    "version": 3
   },
   "file_extension": ".py",
   "mimetype": "text/x-python",
   "name": "python",
   "nbconvert_exporter": "python",
   "pygments_lexer": "ipython3",
   "version": "3.13.5"
  }
 },
 "nbformat": 4,
 "nbformat_minor": 5
}
