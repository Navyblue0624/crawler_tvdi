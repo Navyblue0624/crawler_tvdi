{
 "cells": [
  {
   "cell_type": "code",
   "execution_count": null,
   "id": "94432d75",
   "metadata": {},
   "outputs": [],
   "source": [
    "import math\n"
   ]
  }
 ],
 "metadata": {
  "kernelspec": {
   "display_name": "base",
   "language": "python",
   "name": "python3"
  },
  "language_info": {
   "name": "python",
   "version": "3.13.5"
  }
 },
 "nbformat": 4,
 "nbformat_minor": 5
}
