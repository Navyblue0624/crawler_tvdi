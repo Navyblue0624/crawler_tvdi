{
 "cells": [
  {
   "cell_type": "code",
   "execution_count": null,
   "id": "7baa7a5e",
   "metadata": {},
   "outputs": [],
   "source": [
    "import jsonschema\n",
    "from pprint import pprint\n",
    "\n"
   ]
  }
 ],
 "metadata": {
  "language_info": {
   "name": "python"
  }
 },
 "nbformat": 4,
 "nbformat_minor": 5
}
