{
 "cells": [
  {
   "cell_type": "code",
   "execution_count": 2,
   "id": "5af7db51",
   "metadata": {},
   "outputs": [
    {
     "name": "stdout",
     "output_type": "stream",
     "text": [
      "Requirement already satisfied: nest_asyncio in c:\\users\\user\\miniconda3\\lib\\site-packages (1.6.0)\n",
      "開始任務 1\n",
      "開始任務 2\n",
      "任務 1 完成\n",
      "任務 2 完成\n",
      "總耗時: 2.00 秒\n"
     ]
    }
   ],
   "source": [
    "# 安裝 nest_asyncio（第一次執行時才需要）\n",
    "!pip install nest_asyncio\n",
    "\n",
    "# 套用 nest_asyncio，讓 asyncio.run 在 Notebook 內可以正常執行\n",
    "import nest_asyncio\n",
    "nest_asyncio.apply()\n",
    "\n",
    "# 範例 4.2：模擬非同步網路請求\n",
    "import asyncio\n",
    "import time\n",
    "\n",
    "async def task(id, delay):\n",
    "    print(f\"開始任務 {id}\")\n",
    "    await asyncio.sleep(delay)\n",
    "    print(f\"任務 {id} 完成\")\n",
    "\n",
    "async def main():\n",
    "    start = time.time()\n",
    "\n",
    "    # 非同步執行兩個任務（並行）\n",
    "    tasks = [task(1, 1), task(2, 2)]\n",
    "    await asyncio.gather(*tasks)\n",
    "\n",
    "    print(f\"總耗時: {time.time() - start:.2f} 秒\")\n",
    "\n",
    "# 使用 asyncio.run 執行 main（已修補事件迴圈）\n",
    "asyncio.run(main())"
   ]
  }
 ],
 "metadata": {
  "kernelspec": {
   "display_name": "base",
   "language": "python",
   "name": "python3"
  },
  "language_info": {
   "codemirror_mode": {
    "name": "ipython",
    "version": 3
   },
   "file_extension": ".py",
   "mimetype": "text/x-python",
   "name": "python",
   "nbconvert_exporter": "python",
   "pygments_lexer": "ipython3",
   "version": "3.13.5"
  }
 },
 "nbformat": 4,
 "nbformat_minor": 5
}
